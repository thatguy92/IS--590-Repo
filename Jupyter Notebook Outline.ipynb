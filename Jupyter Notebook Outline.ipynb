{
 "cells": [
  {
   "cell_type": "code",
   "execution_count": null,
   "metadata": {},
   "outputs": [],
   "source": [
    "#Introduction:\n",
    "#My project will analysis how well smaller Brazilian Jiu Jitsu (BJJ) fighters can perform against larger ones.\n",
    "#This analysis will use the results of three BJJ tournament open-weight divisions: FIVE Grappling, IBJJF 2018 Worlds, and SJJIF 2018. \n",
    "#I can then determine what factors affect the analysis results; these factors could be belt level, age division, or gender. \n",
    "#I started by gathering all my data sets where were copy and pasted into excel and then reformatted into a more parsible form. \n",
    "#The stories for each dataset are below.\n",
    "\n",
    "#Five Grappling:\n",
    "#The first dataset that I worked on was the FIVE Grappling dataset. \n",
    "#This one was officially chosen for the project on February 23rd and cleaned on April 13th. \n",
    "#During the cleaning, I noticed a significant amount of missing weight divisions, so I found a participants bracket that gave me much of the missing data.\n",
    "\n",
    "#IBJJF 2018 Worlds:\n",
    "#I am currently cleaning this data set; I began doing so April 18th. \n",
    "#This one was officially chosen for the project on February 23rd. \n",
    "#On April 14, it was discovered that the inital data set was incomplete, but other data files from the source website were able to complete it. \n",
    "\n",
    "#SJJIF 2018 Worlds:\n",
    "#I will clean this dataset after the IBJJF dataset. \n",
    "#Like the other two, this one was officially chosen for the project on February 23rd. \n",
    "#On April 14, it was discovered that the inital data set was incomplete, but other data files from the source website were able to complete it. \n",
    "\n",
    "#Mashing Together:\n",
    "#I plan on piecing these datasets together using Pandas. \n",
    "#I would imagine the best way to link these together would be tournament name.\n",
    "\n",
    "#Final Analysis:\n",
    "#The final analysis will be done using data visualization software per recommendation."
   ]
  }
 ],
 "metadata": {
  "kernelspec": {
   "display_name": "Python 3",
   "language": "python",
   "name": "python3"
  },
  "language_info": {
   "codemirror_mode": {
    "name": "ipython",
    "version": 3
   },
   "file_extension": ".py",
   "mimetype": "text/x-python",
   "name": "python",
   "nbconvert_exporter": "python",
   "pygments_lexer": "ipython3",
   "version": "3.7.1"
  }
 },
 "nbformat": 4,
 "nbformat_minor": 2
}
